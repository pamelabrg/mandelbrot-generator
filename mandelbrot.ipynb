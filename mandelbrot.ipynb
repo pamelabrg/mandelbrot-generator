{
  "nbformat": 4,
  "nbformat_minor": 0,
  "metadata": {
    "colab": {
      "provenance": [],
      "authorship_tag": "ABX9TyOQokDatxpH6oYxcoEelGxO",
      "include_colab_link": true
    },
    "kernelspec": {
      "name": "python3",
      "display_name": "Python 3"
    },
    "language_info": {
      "name": "python"
    }
  },
  "cells": [
    {
      "cell_type": "markdown",
      "metadata": {
        "id": "view-in-github",
        "colab_type": "text"
      },
      "source": [
        "<a href=\"https://colab.research.google.com/github/pamelabrg/mandelbrot-generator/blob/main/mandelbrot.ipynb\" target=\"_parent\"><img src=\"https://colab.research.google.com/assets/colab-badge.svg\" alt=\"Open In Colab\"/></a>"
      ]
    },
    {
      "cell_type": "code",
      "source": [
        "%%writefile mandelbrot.c\n",
        "\n",
        "#include <stdio.h>\n",
        "#include <stdlib.h>\n",
        "\n",
        "void mandelbrot(int width, int height, int max_iter, double center_x, double center_y, double zoom, const char* filename) {\n",
        "    FILE* fp = fopen(filename, \"wb\");\n",
        "    if (!fp) {\n",
        "        perror(\"fopen\");\n",
        "        exit(EXIT_FAILURE);\n",
        "    }\n",
        "\n",
        "    double real_range = 4.0 / zoom;\n",
        "    double imag_range = 4.0 / zoom;\n",
        "    double real_min = center_x - (real_range / 2);\n",
        "    double real_max = center_x + (real_range / 2);\n",
        "    double imag_min = center_y - (imag_range / 2);\n",
        "    double imag_max = center_y + (imag_range / 2);\n",
        "\n",
        "    fwrite(&width, sizeof(int), 1, fp);\n",
        "    fwrite(&height, sizeof(int), 1, fp);\n",
        "    fwrite(&max_iter, sizeof(int), 1, fp);\n",
        "    fwrite(&real_min, sizeof(double), 1, fp);\n",
        "    fwrite(&real_max, sizeof(double), 1, fp);\n",
        "    fwrite(&imag_min, sizeof(double), 1, fp);\n",
        "    fwrite(&imag_max, sizeof(double), 1, fp);\n",
        "\n",
        "    unsigned char* image = (unsigned char*)malloc(width * height);\n",
        "    if (!image) {\n",
        "        perror(\"malloc\");\n",
        "        exit(EXIT_FAILURE);\n",
        "    }\n",
        "\n",
        "    for (int y = 0; y < height; ++y) {\n",
        "        for (int x = 0; x < width; ++x) {\n",
        "            double cx = real_min + (x / (double)width) * (real_max - real_min);\n",
        "            double cy = imag_min + (y / (double)height) * (imag_max - imag_min);\n",
        "            double zx = 0.0, zy = 0.0;\n",
        "            int i;\n",
        "            for (i = 0; i < max_iter; ++i) {\n",
        "                double xtemp = zx * zx - zy * zy + cx;\n",
        "                zy = 2.0 * zx * zy + cy;\n",
        "                zx = xtemp;\n",
        "                if (zx * zx + zy * zy > 4.0) break;\n",
        "            }\n",
        "            image[y * width + x] = (unsigned char)(255.0 * i / max_iter);\n",
        "        }\n",
        "    }\n",
        "\n",
        "    fwrite(image, sizeof(unsigned char), width * height, fp);\n",
        "    fclose(fp);\n",
        "    free(image);\n",
        "}\n",
        "\n",
        "int main(int argc, char* argv[]) {\n",
        "    if (argc != 8) {\n",
        "        fprintf(stderr, \"Usage: %s width height max_iter center_x center_y zoom output_file\\n\", argv[0]);\n",
        "        return EXIT_FAILURE;\n",
        "    }\n",
        "\n",
        "    int width = atoi(argv[1]);\n",
        "    int height = atoi(argv[2]);\n",
        "    int max_iter = atoi(argv[3]);\n",
        "    double center_x = atof(argv[4]);\n",
        "    double center_y = atof(argv[5]);\n",
        "    double zoom = atof(argv[6]);\n",
        "    const char* output_file = argv[7];\n",
        "\n",
        "    mandelbrot(width, height, max_iter, center_x, center_y, zoom, output_file);\n",
        "    return EXIT_SUCCESS;\n",
        "}\n"
      ],
      "metadata": {
        "colab": {
          "base_uri": "https://localhost:8080/"
        },
        "id": "7O9uVUU9oOlW",
        "outputId": "fa31aaaa-4232-4494-a86f-e4e55c938768"
      },
      "execution_count": 102,
      "outputs": [
        {
          "output_type": "stream",
          "name": "stdout",
          "text": [
            "Overwriting mandelbrot.c\n"
          ]
        }
      ]
    },
    {
      "cell_type": "code",
      "source": [
        "!gcc mandelbrot.c -o mandelbrot -lm"
      ],
      "metadata": {
        "id": "GnuZGqyts-oU"
      },
      "execution_count": 103,
      "outputs": []
    },
    {
      "cell_type": "code",
      "source": [
        "import subprocess\n",
        "import numpy as np\n",
        "from PIL import Image\n",
        "\n",
        "def generate_fractal(width, height, max_iter, center_x, center_y, zoom, binary_file, png_file):\n",
        "    subprocess.run([\n",
        "        './mandelbrot',\n",
        "        str(width), str(height), str(max_iter),\n",
        "        str(center_x), str(center_y),\n",
        "        str(zoom), binary_file\n",
        "    ], check=True)\n",
        "\n",
        "    with open(binary_file, 'rb') as f:\n",
        "        width = np.fromfile(f, dtype=np.int32, count=1)[0]\n",
        "        height = np.fromfile(f, dtype=np.int32, count=1)[0]\n",
        "        max_iter = np.fromfile(f, dtype=np.int32, count=1)[0]\n",
        "        real_min = np.fromfile(f, dtype=np.float64, count=1)[0]\n",
        "        real_max = np.fromfile(f, dtype=np.float64, count=1)[0]\n",
        "        imag_min = np.fromfile(f, dtype=np.float64, count=1)[0]\n",
        "        imag_max = np.fromfile(f, dtype=np.float64, count=1)[0]\n",
        "\n",
        "        image_data = np.fromfile(f, dtype=np.uint8).reshape((height, width))\n",
        "\n",
        "    image = Image.fromarray(image_data, mode='L')\n",
        "    image.save(png_file)\n",
        "\n",
        "def main():\n",
        "    width = 1080\n",
        "    height = 1080\n",
        "    max_iter = int(input(\"Número máximo de iterações: \"))\n",
        "    center_x = float(input(\"Coordenada real do centro: \"))\n",
        "    center_y = float(input(\"Coordenada imaginária do centro: \"))\n",
        "    zoom = float(input(\"Fator de zoom: \"))\n",
        "    binary_file = 'mandelbrot_data.bin'\n",
        "    png_file = 'mandelbrot.png'\n",
        "\n",
        "    generate_fractal(width, height, max_iter, center_x, center_y, zoom, binary_file, png_file)\n",
        "\n",
        "if __name__ == '__main__':\n",
        "    main()\n",
        "1"
      ],
      "metadata": {
        "colab": {
          "base_uri": "https://localhost:8080/"
        },
        "id": "d5dP4egLoRZT",
        "outputId": "115e43bf-2cb6-4b44-f301-550859fdb4c8"
      },
      "execution_count": 105,
      "outputs": [
        {
          "name": "stdout",
          "output_type": "stream",
          "text": [
            "Largura da imagem: 1080\n",
            "Altura da imagem: 1080\n",
            "Número máximo de iterações: 500\n",
            "Coordenada real do centro: -0.861\n",
            "Coordenada imaginária do centro: -0.63\n",
            "Fator de zoom: 1.9157\n"
          ]
        }
      ]
    }
  ]
}